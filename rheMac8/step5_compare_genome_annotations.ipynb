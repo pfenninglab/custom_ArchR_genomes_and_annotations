{
 "cells": [
  {
   "cell_type": "code",
   "execution_count": 1,
   "metadata": {
    "scrolled": true
   },
   "outputs": [
    {
     "name": "stderr",
     "output_type": "stream",
     "text": [
      "Loading required package: stats4\n",
      "\n",
      "Loading required package: BiocGenerics\n",
      "\n",
      "Loading required package: parallel\n",
      "\n",
      "\n",
      "Attaching package: ‘BiocGenerics’\n",
      "\n",
      "\n",
      "The following objects are masked from ‘package:parallel’:\n",
      "\n",
      "    clusterApply, clusterApplyLB, clusterCall, clusterEvalQ,\n",
      "    clusterExport, clusterMap, parApply, parCapply, parLapply,\n",
      "    parLapplyLB, parRapply, parSapply, parSapplyLB\n",
      "\n",
      "\n",
      "The following objects are masked from ‘package:stats’:\n",
      "\n",
      "    IQR, mad, sd, var, xtabs\n",
      "\n",
      "\n",
      "The following objects are masked from ‘package:base’:\n",
      "\n",
      "    anyDuplicated, append, as.data.frame, basename, cbind, colnames,\n",
      "    dirname, do.call, duplicated, eval, evalq, Filter, Find, get, grep,\n",
      "    grepl, intersect, is.unsorted, lapply, Map, mapply, match, mget,\n",
      "    order, paste, pmax, pmax.int, pmin, pmin.int, Position, rank,\n",
      "    rbind, Reduce, rownames, sapply, setdiff, sort, table, tapply,\n",
      "    union, unique, unsplit, which, which.max, which.min\n",
      "\n",
      "\n",
      "Loading required package: S4Vectors\n",
      "\n",
      "\n",
      "Attaching package: ‘S4Vectors’\n",
      "\n",
      "\n",
      "The following object is masked from ‘package:base’:\n",
      "\n",
      "    expand.grid\n",
      "\n",
      "\n",
      "Loading required package: IRanges\n",
      "\n",
      "Loading required package: GenomeInfoDb\n",
      "\n",
      "Loading required package: AnnotationDbi\n",
      "\n",
      "Loading required package: Biobase\n",
      "\n",
      "Welcome to Bioconductor\n",
      "\n",
      "    Vignettes contain introductory material; view with\n",
      "    'browseVignettes()'. To cite Bioconductor, see\n",
      "    'citation(\"Biobase\")', and for packages 'citation(\"pkgname\")'.\n",
      "\n",
      "\n",
      "\n",
      "\n",
      "\n",
      "\n"
     ]
    }
   ],
   "source": [
    "library(GenomicRanges)\n",
    "library(GenomicFeatures)\n",
    "library(rtracklayer)\n",
    "library(org.Mm.eg.db)\n",
    "library(org.Hs.eg.db)\n",
    "\n",
    "options(stringsAsFactors = F)\n",
    "ss <- function(x, pattern, slot = 1, ...) { sapply(strsplit(x = x, split = pattern, ...), '[', slot) }\n",
    "\n",
    "PROJDIR = '/projects/pfenninggroup/singleCell/Macaque_snATAC-seq/macaque_snATAC-seq/genomes'"
   ]
  },
  {
   "cell_type": "code",
   "execution_count": 2,
   "metadata": {
    "scrolled": true
   },
   "outputs": [
    {
     "name": "stderr",
     "output_type": "stream",
     "text": [
      "Import genomic features from the file as a GRanges object ... \n",
      "OK\n",
      "\n",
      "Prepare the 'metadata' data frame ... \n",
      "OK\n",
      "\n",
      "Make the TxDb object ... \n",
      "Warning message in .get_cds_IDX(mcols0$type, mcols0$phase):\n",
      "“The \"phase\" metadata column contains non-NA values for features of type\n",
      "  stop_codon. This information was ignored.”\n",
      "OK\n",
      "\n",
      "Import genomic features from the file as a GRanges object ... \n",
      "OK\n",
      "\n",
      "Prepare the 'metadata' data frame ... \n",
      "OK\n",
      "\n",
      "Make the TxDb object ... \n",
      "Warning message in .get_cds_IDX(mcols0$type, mcols0$phase):\n",
      "“The \"phase\" metadata column contains non-NA values for features of type\n",
      "  stop_codon. This information was ignored.”\n",
      "OK\n",
      "\n",
      "Import genomic features from the file as a GRanges object ... \n",
      "OK\n",
      "\n",
      "Prepare the 'metadata' data frame ... \n",
      "OK\n",
      "\n",
      "Make the TxDb object ... \n",
      "Warning message in .get_cds_IDX(mcols0$type, mcols0$phase):\n",
      "“The \"phase\" metadata column contains non-NA values for features of type\n",
      "  stop_codon. This information was ignored.”\n",
      "OK\n",
      "\n",
      "Import genomic features from the file as a GRanges object ... \n",
      "OK\n",
      "\n",
      "Prepare the 'metadata' data frame ... \n",
      "OK\n",
      "\n",
      "Make the TxDb object ... \n",
      "Warning message in .get_cds_IDX(mcols0$type, mcols0$phase):\n",
      "“some CDS phases are missing or not between 0 and 2”\n",
      "Warning message in .extract_exons_from_GRanges(exon_IDX, gr, mcols0, tx_IDX, feature = \"exon\", :\n",
      "“673 exons couldn't be linked to a transcript so were dropped (showing\n",
      "  only the first 6):\n",
      "  seqid    start      end strand                ID              Name     Parent\n",
      "1 chr10 29634525 29634844      -   exon-id-IGLC2-1   exon-id-IGLC2-1   id-IGLC2\n",
      "2 chr10 29647973 29648292      -   exon-id-IGLC7-1   exon-id-IGLC7-1   id-IGLC7\n",
      "3 chr10 29653298 29653617      -   exon-id-IGLC1-1   exon-id-IGLC1-1   id-IGLC1\n",
      "4 chr10 29658906 29659225      -   exon-id-IGLC3-1   exon-id-IGLC3-1   id-IGLC3\n",
      "5 chr10 29678778 29679069      - exon-id-IGLV3-1-2 exon-id-IGLV3-1-2 id-IGLV3-1\n",
      "6 chr10 29679204 29679248      - exon-id-IGLV3-1-1 exon-id-IGLV3-1-1 id-IGLV3-1\n",
      "  Parent_type\n",
      "1        <NA>\n",
      "2        <NA>\n",
      "3        <NA>\n",
      "4        <NA>\n",
      "5        <NA>\n",
      "6        <NA>”\n",
      "Warning message in .extract_exons_from_GRanges(cds_IDX, gr, mcols0, tx_IDX, feature = \"cds\", :\n",
      "“668 CDS couldn't be linked to a transcript so were dropped (showing\n",
      "  only the first 6):\n",
      "  seqid    start      end strand          ID Name     Parent Parent_type\n",
      "1 chr10 29634525 29634844      -   cds-IGLC2 <NA>   id-IGLC2        <NA>\n",
      "2 chr10 29647973 29648292      -   cds-IGLC7 <NA>   id-IGLC7        <NA>\n",
      "3 chr10 29653298 29653617      -   cds-IGLC1 <NA>   id-IGLC1        <NA>\n",
      "4 chr10 29658906 29659225      -   cds-IGLC3 <NA>   id-IGLC3        <NA>\n",
      "5 chr10 29678778 29679069      - cds-IGLV3-1 <NA> id-IGLV3-1        <NA>\n",
      "6 chr10 29679204 29679248      - cds-IGLV3-1 <NA> id-IGLV3-1        <NA>”\n",
      "Warning message in makeTxDbFromGRanges(gr, metadata = metadata):\n",
      "“The following transcripts were dropped because their exon ranks could\n",
      "  not be inferred (either because the exons are not on the same\n",
      "  chromosome/strand or because they are not separated by introns):\n",
      "  rna-XR_001740547.1”\n",
      "Warning message in .find_exon_cds(exons, cds):\n",
      "“The following transcripts have exons that contain more than one CDS\n",
      "  (only the first CDS was kept for each exon): rna-NM_001134939.1,\n",
      "  rna-NM_001172437.2, rna-NM_001184961.1, rna-NM_001301020.1,\n",
      "  rna-NM_001301302.1, rna-NM_001301371.1, rna-NM_002537.3,\n",
      "  rna-NM_004152.3, rna-NM_015068.3, rna-NM_016178.2”\n",
      "OK\n",
      "\n"
     ]
    }
   ],
   "source": [
    "ensGTF = '/home/bnphan/resources/genomes/rheMac10/rheMac10.ensGene.gtf'\n",
    "ncbiGTF = '/home/bnphan/resources/genomes/rheMac10/rheMac10.ncbiRefSeq.gtf'\n",
    "refgeneGTF = '/home/bnphan/resources/genomes/rheMac10/rheMac10.refGene.gtf'\n",
    "liftOffGTF = '/home/bnphan/resources/genomes/rheMac10/rheMac10_liftoff_GRCh38.p13_RefSeq.gff3'\n",
    "\n",
    "ensTxdb = makeTxDbFromGFF(ensGTF, organism='Macaca mulatta')\n",
    "ncbiTxdb = makeTxDbFromGFF(ncbiGTF, organism='Macaca mulatta')\n",
    "refgeneTxdb = makeTxDbFromGFF(refgeneGTF, organism='Macaca mulatta')\n",
    "liftoffTxdb = makeTxDbFromGFF(liftOffGTF, organism='Macaca mulatta')"
   ]
  },
  {
   "cell_type": "code",
   "execution_count": 3,
   "metadata": {},
   "outputs": [
    {
     "name": "stderr",
     "output_type": "stream",
     "text": [
      "Import genomic features from the file as a GRanges object ... \n",
      "OK\n",
      "\n",
      "Prepare the 'metadata' data frame ... \n",
      "OK\n",
      "\n",
      "Make the TxDb object ... \n",
      "OK\n",
      "\n"
     ]
    }
   ],
   "source": [
    "premRNAGTF = '/home/bnphan/resources/genomes/rheMac10/rhemac10.premrna.v4.gtf'\n",
    "premRNATxdb = makeTxDbFromGFF(premRNAGTF, organism='Macaca mulatta', dbxrefTag = 'GeneName')"
   ]
  },
  {
   "cell_type": "code",
   "execution_count": 15,
   "metadata": {},
   "outputs": [],
   "source": [
    "ensGenes = genes(ensTxdb)\n",
    "ensGenes = ensGenes[!duplicated(ensGenes)]\n",
    "\n",
    "ncbiGenes = genes(ncbiTxdb)\n",
    "ncbiGenes = ncbiGenes[!duplicated(ncbiGenes)]\n",
    "\n",
    "refgeneGenes = genes(refgeneTxdb)\n",
    "refgeneGenes = refgeneGenes[!duplicated(refgeneGenes)]\n",
    "\n",
    "liftoffGenes = genes(liftoffTxdb)\n",
    "liftoffGenes = liftoffGenes[!duplicated(liftoffGenes)]"
   ]
  },
  {
   "cell_type": "code",
   "execution_count": 16,
   "metadata": {},
   "outputs": [],
   "source": [
    "premRNAGenes = genes(premRNATxdb)\n",
    "premRNAGenes = premRNAGenes[!duplicated(premRNAGenes)]"
   ]
  },
  {
   "cell_type": "code",
   "execution_count": 17,
   "metadata": {
    "scrolled": true
   },
   "outputs": [
    {
     "data": {
      "text/plain": [
       "GRanges object with 35392 ranges and 1 metadata column:\n",
       "                                         seqnames              ranges strand |\n",
       "                                            <Rle>           <IRanges>  <Rle> |\n",
       "  ENSMMUG00000000001.4                      chr20     2458440-2490973      + |\n",
       "  ENSMMUG00000000002.4                      chr20     2492622-2497409      + |\n",
       "  ENSMMUG00000000005.4                      chr10     9424104-9437085      + |\n",
       "  ENSMMUG00000000006.4                      chr13       844730-852509      - |\n",
       "  ENSMMUG00000000007.4                       chr3 112107434-112121572      + |\n",
       "                   ...                        ...                 ...    ... .\n",
       "  ENSMMUG00000065347.1                      chr12   31715533-31765952      + |\n",
       "  ENSMMUG00000065348.1 chr9_NW_021160226v1_random         21839-34283      - |\n",
       "  ENSMMUG00000065349.1                      chr19   44856407-44856554      - |\n",
       "  ENSMMUG00000065350.1                       chr9 133693822-133695328      + |\n",
       "  ENSMMUG00000065351.1                       chr3 134301388-134301535      - |\n",
       "                                    gene_id\n",
       "                                <character>\n",
       "  ENSMMUG00000000001.4 ENSMMUG00000000001.4\n",
       "  ENSMMUG00000000002.4 ENSMMUG00000000002.4\n",
       "  ENSMMUG00000000005.4 ENSMMUG00000000005.4\n",
       "  ENSMMUG00000000006.4 ENSMMUG00000000006.4\n",
       "  ENSMMUG00000000007.4 ENSMMUG00000000007.4\n",
       "                   ...                  ...\n",
       "  ENSMMUG00000065347.1 ENSMMUG00000065347.1\n",
       "  ENSMMUG00000065348.1 ENSMMUG00000065348.1\n",
       "  ENSMMUG00000065349.1 ENSMMUG00000065349.1\n",
       "  ENSMMUG00000065350.1 ENSMMUG00000065350.1\n",
       "  ENSMMUG00000065351.1 ENSMMUG00000065351.1\n",
       "  -------\n",
       "  seqinfo: 328 sequences from an unspecified genome; no seqlengths"
      ]
     },
     "metadata": {},
     "output_type": "display_data"
    },
    {
     "data": {
      "text/plain": [
       "GRanges object with 33936 ranges and 1 metadata column:\n",
       "          seqnames              ranges strand |     gene_id\n",
       "             <Rle>           <IRanges>  <Rle> | <character>\n",
       "     A1BG    chr19   57885675-57892245      - |        A1BG\n",
       "     A1CF     chr9   87101795-87180296      + |        A1CF\n",
       "    A2ML1    chr11   10880427-10940310      - |       A2ML1\n",
       "  A3GALT2     chr1 191326476-191336353      + |     A3GALT2\n",
       "   A4GALT    chr10     8765390-8794096      + |      A4GALT\n",
       "      ...      ...                 ...    ... .         ...\n",
       "   ZYG11A     chr1 171536859-171599453      - |      ZYG11A\n",
       "   ZYG11B     chr1 171621588-171719695      - |      ZYG11B\n",
       "      ZYX     chr3 169975533-169985529      + |         ZYX\n",
       "    ZZEF1    chr16     3791158-3931352      - |       ZZEF1\n",
       "     ZZZ3     chr1 146699392-146825095      + |        ZZZ3\n",
       "  -------\n",
       "  seqinfo: 404 sequences (1 circular) from an unspecified genome; no seqlengths"
      ]
     },
     "metadata": {},
     "output_type": "display_data"
    },
    {
     "data": {
      "text/plain": [
       "GRanges object with 6310 ranges and 1 metadata column:\n",
       "           seqnames              ranges strand |     gene_id\n",
       "              <Rle>           <IRanges>  <Rle> | <character>\n",
       "     AAMDC    chr14   70895761-70947958      + |       AAMDC\n",
       "      AAMP    chr12 105666595-105672616      - |        AAMP\n",
       "     AANAT    chr16   72871936-72873343      + |       AANAT\n",
       "  AASDHPPT    chr14   99342719-99363734      + |    AASDHPPT\n",
       "      AATF    chr16   34050978-34162703      - |        AATF\n",
       "       ...      ...                 ...    ... .         ...\n",
       "    ZSCAN1    chr19   57586611-57607554      + |      ZSCAN1\n",
       "   ZSCAN25     chr3   41725278-41737314      + |     ZSCAN25\n",
       "   ZSCAN5A    chr19   56005919-56012510      - |     ZSCAN5A\n",
       "    ZSWIM7    chr16   16399104-16420667      + |      ZSWIM7\n",
       "       ZYX     chr3 169975538-169985529      + |         ZYX\n",
       "  -------\n",
       "  seqinfo: 46 sequences from an unspecified genome; no seqlengths"
      ]
     },
     "metadata": {},
     "output_type": "display_data"
    },
    {
     "data": {
      "text/plain": [
       "GRanges object with 35667 ranges and 1 metadata column:\n",
       "           seqnames              ranges strand |     gene_id\n",
       "              <Rle>           <IRanges>  <Rle> | <character>\n",
       "      A1BG    chr19   57884248-57892223      - |        A1BG\n",
       "  A1BG-AS1    chr19   57890697-57892571      + |    A1BG-AS1\n",
       "      A1CF     chr9   87101799-87186551      + |        A1CF\n",
       "       A2M    chr11   10640881-10687521      + |         A2M\n",
       "   A2M-AS1    chr11   10687175-10690085      - |     A2M-AS1\n",
       "       ...      ...                 ...    ... .         ...\n",
       "    ZYG11A     chr1 171536438-171580267      - |      ZYG11A\n",
       "    ZYG11B     chr1 171616991-171719692      - |      ZYG11B\n",
       "       ZYX     chr3 169975491-169985581      + |         ZYX\n",
       "     ZZEF1    chr16     3791158-3931324      - |       ZZEF1\n",
       "      ZZZ3     chr1 146699379-146823544      + |        ZZZ3\n",
       "  -------\n",
       "  seqinfo: 194 sequences (1 circular) from an unspecified genome; no seqlengths"
      ]
     },
     "metadata": {},
     "output_type": "display_data"
    },
    {
     "data": {
      "text/plain": [
       "GRanges object with 46593 ranges and 1 metadata column:\n",
       "                  seqnames              ranges strand |         gene_id\n",
       "                     <Rle>           <IRanges>  <Rle> |     <character>\n",
       "  ENSG00000000003     chrX   97405497-97418380      - | ENSG00000000003\n",
       "  ENSG00000000005     chrX   97362902-97378522      + | ENSG00000000005\n",
       "  ENSG00000000460     chr1   27124712-27183769      + | ENSG00000000460\n",
       "  ENSG00000000938     chr1 197088034-197112589      - | ENSG00000000938\n",
       "  ENSG00000000971     chr1   54054878-54163234      + | ENSG00000000971\n",
       "              ...      ...                 ...    ... .             ...\n",
       "  ENSG00000288101     chr4   80731870-80734093      - | ENSG00000288101\n",
       "  ENSG00000288106    chr10   12655134-12672536      + | ENSG00000288106\n",
       "  ENSG00000288108     chr6     1897076-1899954      - | ENSG00000288108\n",
       "  ENSG00000288109    chr16   64034982-64036420      - | ENSG00000288109\n",
       "  ENSG00000288110     chr8     5237747-5245536      + | ENSG00000288110\n",
       "  -------\n",
       "  seqinfo: 57 sequences (1 circular) from an unspecified genome; no seqlengths"
      ]
     },
     "metadata": {},
     "output_type": "display_data"
    }
   ],
   "source": [
    "ensGenes\n",
    "ncbiGenes\n",
    "refgeneGenes\n",
    "liftoffGenes\n",
    "premRNAGenes"
   ]
  },
  {
   "cell_type": "code",
   "execution_count": 23,
   "metadata": {},
   "outputs": [
    {
     "ename": "ERROR",
     "evalue": "Error in FUN(X[[i]], ...): Inputs contains duplicated ranges. \n             please recheck your inputs.\n",
     "output_type": "error",
     "traceback": [
      "Error in FUN(X[[i]], ...): Inputs contains duplicated ranges. \n             please recheck your inputs.\nTraceback:\n",
      "1. makeVennDiagram(Peaks = list(ensGenes, ncbiGenes, refgeneGenes, \n .     liftoffGenes), totalTest = 1e+08, by = \"feature\", NameOfPeaks = c(\"ENS\", \n .     \"NCBI\", \"REFG\", \"LIFT\"))",
      "2. getVennCounts(Peaks, maxgap = maxgap, minoverlap = minoverlap, \n .     by = by, ignore.strand = ignore.strand, connectedPeaks = ifelse(connectedPeaks == \n .         \"keepFirstListConsistent\", \"keepAll\", connectedPeaks))",
      "3. vennCounts(PeaksList, n = n, names = names, maxgap = maxgap, \n .     minoverlap = minoverlap, by = by, ignore.strand = ignore.strand, \n .     connectedPeaks = connectedPeaks)",
      "4. lapply(PeaksList, trimPeakList, by = by, ignore.strand = ignore.strand, \n .     keepMetadata = FALSE)",
      "5. lapply(PeaksList, trimPeakList, by = by, ignore.strand = ignore.strand, \n .     keepMetadata = FALSE)",
      "6. FUN(X[[i]], ...)",
      "7. stop(\"Inputs contains duplicated ranges. \\n             please recheck your inputs.\")"
     ]
    }
   ],
   "source": [
    "library(ChIPpeakAnno)\n",
    "res <- makeVennDiagram(Peaks=list(ensGenes, ncbiGenes, refgeneGenes, liftoffGenes),\n",
    "                       totalTest=100000000, by=\"feature\",\n",
    "                       NameOfPeaks=c(\"ENS\", \"NCBI\", \"REFG\", \"LIFT\"))"
   ]
  },
  {
   "cell_type": "code",
   "execution_count": null,
   "metadata": {},
   "outputs": [],
   "source": [
    "table(liftoffGenes$gene_id %in% premRNAGenes$gene_id)"
   ]
  }
 ],
 "metadata": {
  "kernelspec": {
   "display_name": "R",
   "language": "R",
   "name": "ir"
  },
  "language_info": {
   "codemirror_mode": "r",
   "file_extension": ".r",
   "mimetype": "text/x-r-source",
   "name": "R",
   "pygments_lexer": "r",
   "version": "3.6.3"
  }
 },
 "nbformat": 4,
 "nbformat_minor": 4
}
